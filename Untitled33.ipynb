{
  "nbformat": 4,
  "nbformat_minor": 0,
  "metadata": {
    "colab": {
      "name": "Untitled33.ipynb",
      "provenance": [],
      "authorship_tag": "ABX9TyMtinL0OKW2ly65x6TUIF1X",
      "include_colab_link": true
    },
    "kernelspec": {
      "name": "python3",
      "display_name": "Python 3"
    },
    "language_info": {
      "name": "python"
    }
  },
  "cells": [
    {
      "cell_type": "markdown",
      "metadata": {
        "id": "view-in-github",
        "colab_type": "text"
      },
      "source": [
        "<a href=\"https://colab.research.google.com/github/Anjali-jkh/python-codes/blob/main/Untitled33.ipynb\" target=\"_parent\"><img src=\"https://colab.research.google.com/assets/colab-badge.svg\" alt=\"Open In Colab\"/></a>"
      ]
    },
    {
      "cell_type": "code",
      "execution_count": 12,
      "metadata": {
        "colab": {
          "base_uri": "https://localhost:8080/"
        },
        "id": "CVV4AMx0YMIb",
        "outputId": "95226e1b-7350-48cd-d091-6f474cec3e75"
      },
      "outputs": [
        {
          "output_type": "stream",
          "name": "stdout",
          "text": [
            "Addition is :  (3, 5)\n"
          ]
        }
      ],
      "source": [
        "\n",
        "def addComplex( z1, z2):\n",
        "\treturn z1 + z2\n",
        "  \n",
        "z1 = complex(2, 3)\n",
        "z2 = complex(1, 2)\n",
        "print( \"Addition is : \", addComplex(z1, z2))\n"
      ]
    },
    {
      "cell_type": "code",
      "source": [
        ""
      ],
      "metadata": {
        "id": "MBeV3aIXaw6i"
      },
      "execution_count": null,
      "outputs": []
    },
    {
      "cell_type": "code",
      "source": [
        "\n",
        "def subComplex( z1, z2):\n",
        "\treturn z1-z2\n",
        "\n",
        "z1 = complex(2, 3)\n",
        "z2 = complex(1, 2)\n",
        "print( \"Subtraction is : \", subComplex(z1, z2))\n"
      ],
      "metadata": {
        "colab": {
          "base_uri": "https://localhost:8080/"
        },
        "id": "uIQxkrnNYT2G",
        "outputId": "d19a73a6-9df1-4051-a8b5-67a51f5f4561"
      },
      "execution_count": 2,
      "outputs": [
        {
          "output_type": "stream",
          "name": "stdout",
          "text": [
            "Subtraction is :  (1+1j)\n"
          ]
        }
      ]
    },
    {
      "cell_type": "code",
      "source": [
        "\n",
        "def mulComplex( z1, z2):\n",
        "\treturn z1*z2\n",
        "\n",
        "z1 = complex(2, 3)\n",
        "z2 = complex(1, 2)\n",
        "print( \"multiplication is : \", mulComplex(z1, z2))\n"
      ],
      "metadata": {
        "colab": {
          "base_uri": "https://localhost:8080/"
        },
        "id": "ZGMr2eoeYXtA",
        "outputId": "37160fb3-f71e-457f-eeb5-5a438dad6fc8"
      },
      "execution_count": 4,
      "outputs": [
        {
          "output_type": "stream",
          "name": "stdout",
          "text": [
            "multiplication is :  (-4+7j)\n"
          ]
        }
      ]
    },
    {
      "cell_type": "code",
      "source": [
        "\n",
        "\n",
        "class complex:\n",
        "\tdef __init__(self, a, b):\n",
        "\t\tself.a = a\n",
        "\t\tself.b = b\n",
        "\n",
        "\n",
        "\tdef __add__(self, other):\n",
        "\t\treturn self.a + other.a, self.b + other.b\n",
        "\n",
        "Ob1 = complex(1, 2)\n",
        "Ob2 = complex(2, 3)\n",
        "Ob3 = Ob1 + Ob2\n",
        "print(Ob3)\n"
      ],
      "metadata": {
        "colab": {
          "base_uri": "https://localhost:8080/"
        },
        "id": "c1hojRaoadrZ",
        "outputId": "0426ad1d-c62b-40a2-824f-70156b4e57d4"
      },
      "execution_count": 11,
      "outputs": [
        {
          "output_type": "stream",
          "name": "stdout",
          "text": [
            "(3, 5)\n"
          ]
        }
      ]
    },
    {
      "cell_type": "code",
      "source": [
        "\n",
        "class Person(object):\n",
        "\t\n",
        "\t\n",
        "\tdef __init__(self, name):\n",
        "\t\tself.name = name\n",
        "\n",
        "\t\n",
        "\tdef getName(self):\n",
        "\t\treturn self.name\n",
        "\n",
        "\t\n",
        "\tdef isEmployee(self):\n",
        "\t\treturn False\n",
        "\n",
        "\n",
        "\n",
        "class Employee(Person):\n",
        "\n",
        "\t\n",
        "\tdef isEmployee(self):\n",
        "\t\treturn True\n",
        "\n",
        "\n",
        "emp = Person(\"python\") \n",
        "print(emp.getName(), emp.isEmployee())\n",
        "\n",
        "emp = Employee(\"python 2\") \n",
        "print(emp.getName(), emp.isEmployee())\n"
      ],
      "metadata": {
        "colab": {
          "base_uri": "https://localhost:8080/"
        },
        "id": "AqusufmKbN3X",
        "outputId": "a693dd58-2b58-447e-80c9-39c6f71a9a6c"
      },
      "execution_count": 15,
      "outputs": [
        {
          "output_type": "stream",
          "name": "stdout",
          "text": [
            "python False\n",
            "python 2 True\n"
          ]
        }
      ]
    }
  ]
}