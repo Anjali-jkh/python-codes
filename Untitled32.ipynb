{
  "nbformat": 4,
  "nbformat_minor": 0,
  "metadata": {
    "colab": {
      "name": "Untitled32.ipynb",
      "provenance": [],
      "authorship_tag": "ABX9TyPcLo6iYZvrJBVMO9oSxlvk",
      "include_colab_link": true
    },
    "kernelspec": {
      "name": "python3",
      "display_name": "Python 3"
    },
    "language_info": {
      "name": "python"
    }
  },
  "cells": [
    {
      "cell_type": "markdown",
      "metadata": {
        "id": "view-in-github",
        "colab_type": "text"
      },
      "source": [
        "<a href=\"https://colab.research.google.com/github/Anjali-jkh/python-codes/blob/main/Untitled32.ipynb\" target=\"_parent\"><img src=\"https://colab.research.google.com/assets/colab-badge.svg\" alt=\"Open In Colab\"/></a>"
      ]
    },
    {
      "cell_type": "code",
      "execution_count": 20,
      "metadata": {
        "colab": {
          "base_uri": "https://localhost:8080/"
        },
        "id": "jwOw6bWF0_Lt",
        "outputId": "61d0a7e7-1e5c-4d9a-ae71-a04352cd15a2"
      },
      "outputs": [
        {
          "output_type": "stream",
          "name": "stdout",
          "text": [
            "nafih\n",
            "ies\n"
          ]
        }
      ],
      "source": [
        "class Anjali:\n",
        "  def __init__(anju, name, age, college):\n",
        "        anju.name = name\n",
        "        anju.age = age\n",
        "        anju.college = college\n",
        "\n",
        "p1 = Anjali(\"nafih\", 21, \"ies\")\n",
        "\n",
        "p1.age = 40\n",
        "del p1.age\n",
        "\n",
        "print(p1.name)  \n",
        "print(p1.college)\n",
        "\n"
      ]
    },
    {
      "cell_type": "code",
      "source": [
        "class Person:\n",
        "  def __init__(anjali, name, age):\n",
        "    anjali.name = name\n",
        "    anjali.age = age\n",
        "\n",
        "  def myfunc(abc):\n",
        "    print(\"Hello my name is \" + abc.name)\n",
        "    print(\"hello my age is \", abc.age)\n",
        "p1 = Person(\"John\", 36)\n",
        "p1.myfunc()\n"
      ],
      "metadata": {
        "colab": {
          "base_uri": "https://localhost:8080/"
        },
        "id": "a58jRpny4MiW",
        "outputId": "14506393-e766-40bc-c34b-66ac31bac0a8"
      },
      "execution_count": 26,
      "outputs": [
        {
          "output_type": "stream",
          "name": "stdout",
          "text": [
            "Hello my name is John\n",
            "hello my age is  36\n"
          ]
        }
      ]
    },
    {
      "cell_type": "code",
      "source": [
        ""
      ],
      "metadata": {
        "id": "Xjp56re25wm1"
      },
      "execution_count": null,
      "outputs": []
    },
    {
      "cell_type": "code",
      "source": [
        ""
      ],
      "metadata": {
        "id": "UHKKD8xh3TbT"
      },
      "execution_count": null,
      "outputs": []
    }
  ]
}